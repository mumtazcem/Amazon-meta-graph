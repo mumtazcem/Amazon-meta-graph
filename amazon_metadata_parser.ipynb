{
 "cells": [
  {
   "cell_type": "code",
   "execution_count": 3,
   "metadata": {},
   "outputs": [
    {
     "data": {
      "text/plain": [
       "'\\n*****************************************************************************\\nIMPORTANT NOTE:\\n\\nThis Jupyter Notebook File parses the The Amazon Product Co-Purchasing \\nNetwork Metadata Dataset in [1].  has 548552\\nProducts and 7781990 Reviews. This dataset has 15010575 lines of data which\\nis in total 977.5 MBs.\\n\\nDue to its huge size, it takes nearly 40 minutes of parsing in a regular\\nlaptop. Therefore we decided to put parser code in a different Jupyter\\nNotebook File named: amazon_metadata_parser.ipynb\\n\\n\\n\\n\\n\\n*****************************************************************************\\n'"
      ]
     },
     "execution_count": 3,
     "metadata": {},
     "output_type": "execute_result"
    }
   ],
   "source": [
    "# Marcin Damek, M.Cem Eriş, Mehmet Sezer, Recep O. Yıldız\n",
    "# {damek20, erismu, sezer20, yildizr} @itu.edu.tr\n",
    "\n",
    "# ITU BLG 549E Graph Theory and Algorithms Project\n",
    "\n",
    "# Reference Metadata: \n",
    "# https://snap.stanford.edu/data/bigdata/amazon/amazon-meta.txt.gz\n",
    "\n",
    "# *****************************************************************************\n",
    "# IMPORTANT NOTE:\n",
    "\n",
    "# This Jupyter Notebook File parses the The Amazon Product Co-Purchasing \n",
    "# Network Metadata Dataset in [1, 2].  This metadata has 548552 Products,\n",
    "# 7781990 Reviews and 15010575 lines of data which is in total 977.5 MBs.\n",
    "\n",
    "# Due to its huge size, it takes nearly 40 minutes of parsing this metadata \n",
    "# in a regular laptop.\n",
    "\n",
    "# So, please add the metadata in [1] to the same directory with this ipynb\n",
    "# file and run the next cell.\n",
    "\n",
    "# The parser will create adjacency matrices in csv format for video and\n",
    "# DVDs and, save them tho the saved_adj_matrices directory.\n",
    "\n",
    "# TODO: Check the above sentence is correct.\n",
    "    \n",
    "# TODO: Add parser code below.\n",
    "# *****************************************************************************"
   ]
  },
  {
   "cell_type": "code",
   "execution_count": 2,
   "metadata": {},
   "outputs": [],
   "source": [
    "# TODO: Put the parser code here.\n",
    "\n",
    "# TODO: Give comments to the upper block about the outputs."
   ]
  },
  {
   "cell_type": "markdown",
   "metadata": {},
   "source": [
    "## References\n",
    "\n",
    "[1] “Amazon Product Metadata and Reviews from Summer 2006.” [Online]. Available: https://snap.stanford.edu/data/bigdata/amazon/amazon-meta.txt.gz. [Accessed: 31-Jan-2021].<br>\n",
    "[2] “Amazon Product Co-purchasing Network Metadata.” [Online]. Available: https://snap.stanford.edu/data/amazon-meta.html. [Accessed: 31-Jan-2021].<br>"
   ]
  }
 ],
 "metadata": {
  "kernelspec": {
   "display_name": "Python 3",
   "language": "python",
   "name": "python3"
  },
  "language_info": {
   "codemirror_mode": {
    "name": "ipython",
    "version": 3
   },
   "file_extension": ".py",
   "mimetype": "text/x-python",
   "name": "python",
   "nbconvert_exporter": "python",
   "pygments_lexer": "ipython3",
   "version": "3.8.3"
  }
 },
 "nbformat": 4,
 "nbformat_minor": 4
}
