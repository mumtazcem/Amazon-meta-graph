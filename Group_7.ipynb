{
 "cells": [
  {
   "cell_type": "code",
   "execution_count": 1,
   "metadata": {},
   "outputs": [],
   "source": [
    "# Marcin Damek, M.Cem Eriş, Mehmet Sezer, Recep O. Yıldız\n",
    "# {damek20, erismu, sezer20, yildizr} @itu.edu.tr\n",
    "\n",
    "# ITU BLG 549E Graph Theory and Algorithms\n",
    "# Project\n",
    "\n",
    "# Reference Metadata: https://snap.stanford.edu/data/amazon-meta.html\n",
    "\n",
    "# Required Files\n",
    "# TODO We need to put all of the file names here.\n",
    "\n",
    "import numpy as np"
   ]
  },
  {
   "cell_type": "markdown",
   "metadata": {},
   "source": [
    "# 1. Graph Datasets\n",
    "\n",
    "(1) Present your graphs G1 and G2 (number of nodes, edges, what a node and edge denote).\n",
    "\n",
    "(2) Display the adjacency matrices of both graphs. \n",
    "\n",
    "(3) Plot the node degree distributions of both graphs in an overlaid manner."
   ]
  },
  {
   "cell_type": "code",
   "execution_count": 2,
   "metadata": {},
   "outputs": [
    {
     "data": {
      "text/plain": [
       "'\\nfile = open(\"testing.txt\",\"w\", encoding=\\'utf8\\')\\npreviouslines = [\\'Id\\', \\'title\\', \\'group\\', \\'categories\\', \\'totalreviews\\', \\'avgrating\\']\\nfor line in content:\\n    lines = line.split(\\':\\')\\n    if lines[0] == \"Id\":\\n        if (len(previouslines) == 6):\\n            for component in previouslines[0:5]:\\n                file.write(component)\\n                file.write(\\',\\')\\n            file.write(previouslines[5])\\n            file.write(\"\\n\")\\n        previouslines = []\\n        previouslines.append(lines[1].strip())\\n        \\n    if lines[0] == \"title\":\\n        title = \\':\\'.join(lines[1:]).strip().replace(\\',\\', \\' \\').replace(\\'\\n\\', \\' \\').strip()\\n        previouslines.append(title)\\n       \\n    if lines[0] == \"group\":\\n        previouslines.append(lines[1].strip())\\n\\n    if lines[0] == \"categories\":\\n        previouslines.append(lines[1].strip())\\n    \\n    if lines[0] == \"reviews\" and lines[1].strip() == \"total\":\\n        previouslines.append(lines[2].split(\\' \\')[1])\\n        previouslines.append(lines[4].strip())\\nfile.close()\\n'"
      ]
     },
     "execution_count": 2,
     "metadata": {},
     "output_type": "execute_result"
    }
   ],
   "source": [
    "#Read all lines of the meta data into content list.\n",
    "\n",
    "\"\"\"\n",
    "fname = \"amazon-meta.txt\"\n",
    "with open(fname, encoding = 'utf8') as f:\n",
    "    content = f.readlines()\n",
    "\"\"\"\n",
    "\n",
    "#Remove the beginning and trailing white spaces.\n",
    "# content = [x.strip() for x in content] \n",
    "\n",
    "# Write extracted information to testfile.txt in a format of ',' demilited files.\n",
    "# The columns are Id, title, group, categories, totalreviews, avgrating.\n",
    "# The code stores all extracted information about a product into previoulines,\n",
    "# and write the content into file only when all information are available. Hence,\n",
    "# if review information for a product is not available, the product won't appear\n",
    "# in the final file.\n",
    "\"\"\"\n",
    "file = open(\"testing.txt\",\"w\", encoding='utf8')\n",
    "previouslines = ['Id', 'title', 'group', 'categories', 'totalreviews', 'avgrating']\n",
    "for line in content:\n",
    "    lines = line.split(':')\n",
    "    if lines[0] == \"Id\":\n",
    "        if (len(previouslines) == 6):\n",
    "            for component in previouslines[0:5]:\n",
    "                file.write(component)\n",
    "                file.write(',')\n",
    "            file.write(previouslines[5])\n",
    "            file.write(\"\\n\")\n",
    "        previouslines = []\n",
    "        previouslines.append(lines[1].strip())\n",
    "        \n",
    "    if lines[0] == \"title\":\n",
    "        title = ':'.join(lines[1:]).strip().replace(',', ' ').replace('\\n', ' ').strip()\n",
    "        previouslines.append(title)\n",
    "       \n",
    "    if lines[0] == \"group\":\n",
    "        previouslines.append(lines[1].strip())\n",
    "\n",
    "    if lines[0] == \"categories\":\n",
    "        previouslines.append(lines[1].strip())\n",
    "    \n",
    "    if lines[0] == \"reviews\" and lines[1].strip() == \"total\":\n",
    "        previouslines.append(lines[2].split(' ')[1])\n",
    "        previouslines.append(lines[4].strip())\n",
    "file.close()\n",
    "\"\"\""
   ]
  },
  {
   "cell_type": "markdown",
   "metadata": {},
   "source": [
    "# 2. Graph Theory Principle\n",
    "\n",
    "(1) Present the mathematical principle or concept to explore.\n",
    "\n",
    "(2) Include a figure illustrating how it works on small graphs.\n",
    "\n",
    "(3) Formalize the principle mathematically and present your mathematical symbols and equations with comments and\n",
    "explanations.\n"
   ]
  },
  {
   "cell_type": "code",
   "execution_count": 3,
   "metadata": {},
   "outputs": [],
   "source": []
  },
  {
   "cell_type": "markdown",
   "metadata": {},
   "source": [
    "# 3. The R Space\n",
    "\n",
    "(1) Define R between two graph-driven metrics or properties P1 and P2 to better investigate the graph theory principle/concept you selected in Section II. Justify your rationale for exploring such relationship.\n",
    "\n",
    "(2) Simulate n1 = 100 random graphs derived from G1 with same node strength distribution.\n",
    "\n",
    "(3) Simulate n2 = 100 random graphs derived from G2 with same node strength distribution. Detail the simulation strategy.\n",
    "\n",
    "(4) For each anchor graph Gi, plot its node strength distribution overlaid with that of the simulated graphs from Gi. (5) Plot the anchor graphs in the R space (as star) and the simulated graph populations in dots. For a better visualization, use two different colors."
   ]
  },
  {
   "cell_type": "code",
   "execution_count": 4,
   "metadata": {},
   "outputs": [],
   "source": []
  },
  {
   "cell_type": "markdown",
   "metadata": {},
   "source": [
    "# 4. Result Interpretation and Discussion\n",
    "\n",
    "Discuss and interpret the simulated graph behavior in the R space. Compare both simulated datasets and anchor graphs and derive conclusions."
   ]
  },
  {
   "cell_type": "code",
   "execution_count": null,
   "metadata": {},
   "outputs": [],
   "source": []
  }
 ],
 "metadata": {
  "kernelspec": {
   "display_name": "Python 3",
   "language": "python",
   "name": "python3"
  },
  "language_info": {
   "codemirror_mode": {
    "name": "ipython",
    "version": 3
   },
   "file_extension": ".py",
   "mimetype": "text/x-python",
   "name": "python",
   "nbconvert_exporter": "python",
   "pygments_lexer": "ipython3",
   "version": "3.8.3"
  }
 },
 "nbformat": 4,
 "nbformat_minor": 4
}
