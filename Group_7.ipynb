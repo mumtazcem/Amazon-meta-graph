{
 "cells": [
  {
   "cell_type": "code",
   "execution_count": 1,
   "metadata": {},
   "outputs": [],
   "source": [
    "# Marcin Damek, M.Cem Eriş, Mehmet Sezer, Recep O. Yıldız\n",
    "# {damek20, erismu, sezer20, yildizr} @itu.edu.tr\n",
    "\n",
    "# ITU BLG 549E Graph Theory and Algorithms\n",
    "# Project\n",
    "\n",
    "# Reference Metadata: https://snap.stanford.edu/data/amazon-meta.html\n",
    "\n",
    "# Required Files to \n",
    "# TODO : We need to put all of the file names here."
   ]
  },
  {
   "cell_type": "markdown",
   "metadata": {},
   "source": [
    "# 1. Graph Datasets\n",
    "### (1) Present your graphs G1 and G2 (number of nodes, edges, what a node and edge denote).\n",
    "#### Selected Graphs\n",
    "SNAP (Stanford Network Analysis Project) Amazon Product Co-Purchasing Network Metadata Dataset is used in this project. This metadata can be accessed via reference [1]. <br>\n",
    "Due to big size of products given below in numbers, Videos and DVDs are utilized. We have chosen \"Videos\" for Graph G1 and \"DVDs\" for Graph G2.\n",
    "\n",
    "|Graphs      |Nodes |Edges|\n",
    "|:-----------|:----:|----:|\n",
    "|G1 (Videos) |26132 |TODO |\n",
    "|G2 (DVDs)   |19828 |TODO |\n",
    "\n",
    "#### Node and Edge Representation\n",
    "Each product in the metadata <b>creates a node</b> in the graphs. For the clear understanding of the edge representation, the metadata representation and its fields are given below.\n",
    "\n",
    "\n",
    "|Field       |Explanation |\n",
    "|:-----------|:----------:|\n",
    "|Id          |Product Identification Number|\n",
    "|ASIN        |Amazon Standard Identification Number [2]|\n",
    "|title       |Name/Title of The Product|\n",
    "|group       |Product Group (Book, DVD, Video or Music)|\n",
    "|salesrank   |Amazon Salesrank|\n",
    "|similar     |ASINs of Co-purchased Products (People who buy X also buy Y)|\n",
    "|categories  |Location in Product Category Hierarchy to Which the Product Belongs (Separated By Pipe Character, Category ID in [])|\n",
    "|reviews     |Product Review Information: Time, User ID, Rating, Total Number of Votes on the Review, Total Number of Helpfulness Votes (Note)|\n",
    "\n",
    "* Note: How many people found the review to be helpful?\n",
    "\n",
    "One of the products in the metadata is given as an example.\n",
    "\n",
    "<b>Id</b>: 123499<br>\n",
    "<b>ASIN</b>: 6304812663<br>\n",
    "<b>title</b>: Spice Girls - Girl Power (Live in Istanbul)<br>\n",
    "<b>group</b>: Video<br>\n",
    "<b>salesrank</b>: 19875<br>\n",
    "<b>similar</b>: 5  6305212139  6304683235  0767808673  B00000JQV6  6305112401<br>\n",
    "<b>categories</b>: 7<br>\n",
    "\n",
    "    |[139452]|VHS[404272]|Genres[404274]|Music Video & Concerts[133]|Other Music[511482]|British[169252]\n",
    "    ...\n",
    "<b>reviews</b>: total: 44  downloaded: 44  avg rating: 4.5<br>\n",
    "\n",
    "    1998-3-25  customer:  ATVPDKIKX0DER  rating: 5  votes:   0  helpful:   0\n",
    "    1998-4-11  customer:  ATVPDKIKX0DER  rating: 5  votes:   0  helpful:   0\n",
    "    1998-4-23  customer:  ATVPDKIKX0DER  rating: 5  votes:   0  helpful:   0\n",
    "    ...\n",
    "\n",
    "For edge representation \"similar\" field is used as an edge between two products. If there is a video which has a similar ASIN number which refers to an other type of product, it is ignored. The weight of an edge is assigned to a positive number by summing up the total votes given to both of the products.\n",
    "\n",
    "### (2) Display the adjacency matrices of both graphs. \n",
    "\n",
    "### (3) Plot the node degree distributions of both graphs in an overlaid manner."
   ]
  },
  {
   "cell_type": "code",
   "execution_count": null,
   "metadata": {},
   "outputs": [],
   "source": []
  },
  {
   "cell_type": "code",
   "execution_count": 2,
   "metadata": {},
   "outputs": [
    {
     "data": {
      "text/plain": [
       "'\\nfile = open(\"testing.txt\",\"w\", encoding=\\'utf8\\')\\npreviouslines = [\\'Id\\', \\'title\\', \\'group\\', \\'categories\\', \\'totalreviews\\', \\'avgrating\\']\\nfor line in content:\\n    lines = line.split(\\':\\')\\n    if lines[0] == \"Id\":\\n        if (len(previouslines) == 6):\\n            for component in previouslines[0:5]:\\n                file.write(component)\\n                file.write(\\',\\')\\n            file.write(previouslines[5])\\n            file.write(\"\\n\")\\n        previouslines = []\\n        previouslines.append(lines[1].strip())\\n        \\n    if lines[0] == \"title\":\\n        title = \\':\\'.join(lines[1:]).strip().replace(\\',\\', \\' \\').replace(\\'\\n\\', \\' \\').strip()\\n        previouslines.append(title)\\n       \\n    if lines[0] == \"group\":\\n        previouslines.append(lines[1].strip())\\n\\n    if lines[0] == \"categories\":\\n        previouslines.append(lines[1].strip())\\n    \\n    if lines[0] == \"reviews\" and lines[1].strip() == \"total\":\\n        previouslines.append(lines[2].split(\\' \\')[1])\\n        previouslines.append(lines[4].strip())\\nfile.close()\\n'"
      ]
     },
     "execution_count": 2,
     "metadata": {},
     "output_type": "execute_result"
    }
   ],
   "source": [
    "#Read all lines of the meta data into content list.\n",
    "\n",
    "\"\"\"\n",
    "fname = \"amazon-meta.txt\"\n",
    "with open(fname, encoding = 'utf8') as f:\n",
    "    content = f.readlines()\n",
    "\"\"\"\n",
    "\n",
    "#Remove the beginning and trailing white spaces.\n",
    "# content = [x.strip() for x in content] \n",
    "\n",
    "# Write extracted information to testfile.txt in a format of ',' demilited files.\n",
    "# The columns are Id, title, group, categories, totalreviews, avgrating.\n",
    "# The code stores all extracted information about a product into previoulines,\n",
    "# and write the content into file only when all information are available. Hence,\n",
    "# if review information for a product is not available, the product won't appear\n",
    "# in the final file.\n",
    "\"\"\"\n",
    "file = open(\"testing.txt\",\"w\", encoding='utf8')\n",
    "previouslines = ['Id', 'title', 'group', 'categories', 'totalreviews', 'avgrating']\n",
    "for line in content:\n",
    "    lines = line.split(':')\n",
    "    if lines[0] == \"Id\":\n",
    "        if (len(previouslines) == 6):\n",
    "            for component in previouslines[0:5]:\n",
    "                file.write(component)\n",
    "                file.write(',')\n",
    "            file.write(previouslines[5])\n",
    "            file.write(\"\\n\")\n",
    "        previouslines = []\n",
    "        previouslines.append(lines[1].strip())\n",
    "        \n",
    "    if lines[0] == \"title\":\n",
    "        title = ':'.join(lines[1:]).strip().replace(',', ' ').replace('\\n', ' ').strip()\n",
    "        previouslines.append(title)\n",
    "       \n",
    "    if lines[0] == \"group\":\n",
    "        previouslines.append(lines[1].strip())\n",
    "\n",
    "    if lines[0] == \"categories\":\n",
    "        previouslines.append(lines[1].strip())\n",
    "    \n",
    "    if lines[0] == \"reviews\" and lines[1].strip() == \"total\":\n",
    "        previouslines.append(lines[2].split(' ')[1])\n",
    "        previouslines.append(lines[4].strip())\n",
    "file.close()\n",
    "\"\"\""
   ]
  },
  {
   "cell_type": "markdown",
   "metadata": {},
   "source": [
    "# 2. Graph Theory Principle\n",
    "\n",
    "(1) Present the mathematical principle or concept to explore.\n",
    "\n",
    "(2) Include a figure illustrating how it works on small graphs.\n",
    "\n",
    "(3) Formalize the principle mathematically and present your mathematical symbols and equations with comments and\n",
    "explanations.\n"
   ]
  },
  {
   "cell_type": "code",
   "execution_count": 3,
   "metadata": {},
   "outputs": [],
   "source": []
  },
  {
   "cell_type": "markdown",
   "metadata": {},
   "source": [
    "# 3. The R Space\n",
    "\n",
    "(1) Define R between two graph-driven metrics or properties P1 and P2 to better investigate the graph theory principle/concept you selected in Section II. Justify your rationale for exploring such relationship.\n",
    "\n",
    "(2) Simulate n1 = 100 random graphs derived from G1 with same node strength distribution.\n",
    "\n",
    "(3) Simulate n2 = 100 random graphs derived from G2 with same node strength distribution. Detail the simulation strategy.\n",
    "\n",
    "(4) For each anchor graph Gi, plot its node strength distribution overlaid with that of the simulated graphs from Gi. (5) Plot the anchor graphs in the R space (as star) and the simulated graph populations in dots. For a better visualization, use two different colors."
   ]
  },
  {
   "cell_type": "code",
   "execution_count": 4,
   "metadata": {},
   "outputs": [],
   "source": []
  },
  {
   "cell_type": "markdown",
   "metadata": {},
   "source": [
    "# 4. Result Interpretation and Discussion\n",
    "\n",
    "Discuss and interpret the simulated graph behavior in the R space. Compare both simulated datasets and anchor graphs and derive conclusions."
   ]
  },
  {
   "cell_type": "code",
   "execution_count": null,
   "metadata": {},
   "outputs": [],
   "source": []
  },
  {
   "cell_type": "markdown",
   "metadata": {},
   "source": [
    "## References\n",
    "\n",
    "[1] “Amazon product co-purchasing network metadata.” [Online]. Available: https://snap.stanford.edu/data/amazon-meta.html. [Accessed: 31-Jan-2021]. \n",
    "[2] “What are UPCs, EANs, ISBNs. and ASINs?” [Online]. Available: https://www.amazon.com/gp/seller/asin-upc-isbn-info.html. [Accessed: 31-Jan-2021]. "
   ]
  }
 ],
 "metadata": {
  "kernelspec": {
   "display_name": "Python 3",
   "language": "python",
   "name": "python3"
  },
  "language_info": {
   "codemirror_mode": {
    "name": "ipython",
    "version": 3
   },
   "file_extension": ".py",
   "mimetype": "text/x-python",
   "name": "python",
   "nbconvert_exporter": "python",
   "pygments_lexer": "ipython3",
   "version": "3.8.3"
  }
 },
 "nbformat": 4,
 "nbformat_minor": 4
}
