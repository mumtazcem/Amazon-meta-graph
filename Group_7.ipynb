{
 "cells": [
  {
   "cell_type": "code",
   "execution_count": 1,
   "metadata": {},
   "outputs": [],
   "source": [
    "# Marcin Damek, M.Cem Eriş, Mehmet Sezer, Recep O. Yıldız\n",
    "# {damek20, erismu, sezer20, yildizr} @itu.edu.tr\n",
    "\n",
    "# ITU BLG 549E Graph Theory and Algorithms Project\n",
    "\n",
    "# Reference Metadata: https://snap.stanford.edu/data/amazon-meta.html\n",
    "\n",
    "# Required Files to \n",
    "# TODO : We need to put all of the file names here.\n",
    "# Metadata\n",
    "# CSV files\n",
    "# Saved Datafiles\n",
    "\n",
    "# TODO: Update the github Readme\n",
    "# TODO: Set the github to public\n",
    "# TODO: Put comments about the much time spent for the parsing the metadata"
   ]
  },
  {
   "cell_type": "markdown",
   "metadata": {},
   "source": [
    "# 1. Graph Datasets\n",
    "### (1) Present your graphs G1 and G2 (number of nodes, edges, what a node and edge denote).\n",
    "#### Selected Graphs\n",
    "SNAP (Stanford Network Analysis Project) Amazon Product Co-Purchasing Network Metadata Dataset is used in this project. This metadata can be accessed via reference [1]. <br>\n",
    "Due to big size of products given below in numbers, Videos and DVDs are utilized. We have chosen \"Videos\" for Graph G1 and \"DVDs\" for Graph G2.\n",
    "\n",
    "|Graphs      |Nodes |Edges|\n",
    "|:-----------|:----:|----:|\n",
    "|G1 (Videos) |26131 |16211|\n",
    "|G2 (DVDs)   |19828 |39575|\n",
    "\n",
    "#### Node and Edge Representation\n",
    "Each product in the metadata <b>creates a node</b> in the graphs. For the clear understanding of the edge representation, the metadata representation and its fields are given below.\n",
    "\n",
    "\n",
    "|Field       |Explanation |\n",
    "|:-----------|:----------:|\n",
    "|Id          |Product Identification Number|\n",
    "|ASIN        |Amazon Standard Identification Number [2]|\n",
    "|title       |Name/Title of The Product|\n",
    "|group       |Product Group (Book, DVD, Video or Music)|\n",
    "|salesrank   |Amazon Salesrank|\n",
    "|similar     |ASINs of Co-purchased Products (People who buy X also buy Y)|\n",
    "|categories  |Location in Product Category Hierarchy to Which the Product Belongs (Separated By Pipe Character, Category ID in [])|\n",
    "|reviews     |Product Review Information: Time, User ID, Rating, Total Number of Votes on the Review, Total Number of Helpfulness Votes (Note)|\n",
    "\n",
    "* Note: How many people found the review to be helpful?\n",
    "\n",
    "One of the products in the metadata is given as an example.\n",
    "\n",
    "<b>Id</b>: 123499<br>\n",
    "<b>ASIN</b>: 6304812663<br>\n",
    "<b>title</b>: Spice Girls - Girl Power (Live in Istanbul)<br>\n",
    "<b>group</b>: Video<br>\n",
    "<b>salesrank</b>: 19875<br>\n",
    "<b>similar</b>: 5  6305212139  6304683235  0767808673  B00000JQV6  6305112401<br>\n",
    "<b>categories</b>: 7<br>\n",
    "\n",
    "    |[139452]|VHS[404272]|Genres[404274]|Music Video & Concerts[133]|Other Music[511482]|British[169252]\n",
    "    ...\n",
    "<b>reviews</b>: total: 44  downloaded: 44  avg rating: 4.5<br>\n",
    "\n",
    "    1998-3-25  customer:  ATVPDKIKX0DER  rating: 5  votes:   0  helpful:   0\n",
    "    1998-4-11  customer:  ATVPDKIKX0DER  rating: 5  votes:   0  helpful:   0\n",
    "    1998-4-23  customer:  ATVPDKIKX0DER  rating: 5  votes:   0  helpful:   0\n",
    "    ...\n",
    "\n",
    "For edge representation \"similar\" field is used as an edge between two products. If there is a video which has a similar ASIN number which refers to an other type of product, it is ignored. The weight of an edge is assigned to a positive number by <b><u>summing up the total votes given to both of the products</u></b>. An example for the edge weight calculation is given below.\n",
    " \n",
    "![title](image_files/image_01_edges.png)\n",
    "\n",
    "### (2) Display the adjacency matrices of both graphs. \n",
    "\n",
    "TODO: Will put png files.\n",
    "\n",
    "### (3) Plot the node degree distributions of both graphs in an overlaid manner.\n",
    "\n",
    "TODO: We will put the full degree distributions and also the reduced ones."
   ]
  },
  {
   "cell_type": "markdown",
   "metadata": {},
   "source": [
    "# 2. Graph Theory Principle\n",
    "\n",
    "### (1) Present the mathematical principle or concept to explore.\n",
    "\n",
    "TODO: just add the regular explanations. in order to calculate the modules, Girman Newman Algo is utilised.\n",
    "TODO: Pagerank centrality will be added.\n",
    "\n",
    "### (2) Include a figure illustrating how it works on small graphs.\n",
    "\n",
    "TODO: Will do the coding in the notebook. HW 3 code may come here. Pagerank can be used from HW1.\n",
    "\n",
    "### (3) Formalize the principle mathematically and present your mathematical symbols and equations with comments and explanations.\n",
    "\n",
    "TODO: \n"
   ]
  },
  {
   "cell_type": "code",
   "execution_count": null,
   "metadata": {},
   "outputs": [],
   "source": []
  },
  {
   "cell_type": "markdown",
   "metadata": {},
   "source": [
    "# 3. The R Space\n",
    "\n",
    "### (1) Define R between two graph-driven metrics or properties P1 and P2 to better investigate the graph theory principle/concept you selected in Section 2. Justify your rationale for exploring such relationship.\n",
    "\n",
    "TODO: P1 and P2 results can be get from the temp file.\n",
    "TODO: Morphospace results will come here.\n",
    "\n",
    "### (2) Simulate n1 = 100 random graphs derived from G1 with same node strength distribution.\n",
    "\n",
    "### (3) Simulate n2 = 100 random graphs derived from G2 with same node strength distribution. Detail the simulation strategy.\n",
    "\n",
    "### (4) For each anchor graph Gi, plot its node strength distribution overlaid with that of the simulated graphs from Gi. \n",
    "\n",
    "### (5) Plot the anchor graphs in the R space (as star) and the simulated graph populations in dots. For a better visualization, use two different colors."
   ]
  },
  {
   "cell_type": "code",
   "execution_count": null,
   "metadata": {},
   "outputs": [],
   "source": []
  },
  {
   "cell_type": "markdown",
   "metadata": {},
   "source": [
    "# 4. Result Interpretation and Discussion\n",
    "\n",
    "### Discuss and interpret the simulated graph behavior in the R space. Compare both simulated datasets and anchor graphs and derive conclusions."
   ]
  },
  {
   "cell_type": "markdown",
   "metadata": {},
   "source": [
    "## References\n",
    "\n",
    "[1] “Amazon product co-purchasing network metadata.” [Online]. Available: https://snap.stanford.edu/data/amazon-meta.html. [Accessed: 31-Jan-2021].<br>\n",
    "[2] “What are UPCs, EANs, ISBNs. and ASINs?” [Online]. Available: https://www.amazon.com/gp/seller/asin-upc-isbn-info.html. [Accessed: 31-Jan-2021].<br>\n",
    "[3] Ghalmane, Z., El Hassouni, M., Cherifi, C. et al. Centrality in modular networks. EPJ Data Sci. 8, 15 (2019). https://doi.org/10.1140/epjds/s13688-019-0195-7"
   ]
  },
  {
   "cell_type": "code",
   "execution_count": null,
   "metadata": {},
   "outputs": [],
   "source": []
  }
 ],
 "metadata": {
  "kernelspec": {
   "display_name": "Python 3",
   "language": "python",
   "name": "python3"
  },
  "language_info": {
   "codemirror_mode": {
    "name": "ipython",
    "version": 3
   },
   "file_extension": ".py",
   "mimetype": "text/x-python",
   "name": "python",
   "nbconvert_exporter": "python",
   "pygments_lexer": "ipython3",
   "version": "3.8.3"
  }
 },
 "nbformat": 4,
 "nbformat_minor": 4
}
